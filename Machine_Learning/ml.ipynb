{
 "cells": [
  {
   "cell_type": "code",
   "execution_count": 2,
   "metadata": {},
   "outputs": [],
   "source": [
    "import pandas as pd\n",
    "import quandl\n",
    "import math"
   ]
  },
  {
   "cell_type": "code",
   "execution_count": 3,
   "metadata": {},
   "outputs": [
    {
     "ename": "LimitExceededError",
     "evalue": "(Status 429) (Quandl Error QELx01) You have exceeded the anonymous user limit of 50 calls per day. To make more calls today, please register for a free Nasdaq Data Link account and then include your API key with your requests.",
     "output_type": "error",
     "traceback": [
      "\u001b[1;31m---------------------------------------------------------------------------\u001b[0m",
      "\u001b[1;31mLimitExceededError\u001b[0m                        Traceback (most recent call last)",
      "\u001b[1;32mc:\\Users\\mpilo\\OneDrive\\Documents\\GitHub\\Playground\\Machine_Learning\\ml.ipynb Cell 2\u001b[0m line \u001b[0;36m1\n\u001b[1;32m----> <a href='vscode-notebook-cell:/c%3A/Users/mpilo/OneDrive/Documents/GitHub/Playground/Machine_Learning/ml.ipynb#W1sZmlsZQ%3D%3D?line=0'>1</a>\u001b[0m df \u001b[39m=\u001b[39m quandl\u001b[39m.\u001b[39;49mget(\u001b[39m\"\u001b[39;49m\u001b[39mWIKI/GOOGL\u001b[39;49m\u001b[39m\"\u001b[39;49m)\n\u001b[0;32m      <a href='vscode-notebook-cell:/c%3A/Users/mpilo/OneDrive/Documents/GitHub/Playground/Machine_Learning/ml.ipynb#W1sZmlsZQ%3D%3D?line=1'>2</a>\u001b[0m df\u001b[39m.\u001b[39mhead()\n",
      "File \u001b[1;32m~\\AppData\\Local\\Packages\\PythonSoftwareFoundation.Python.3.9_qbz5n2kfra8p0\\LocalCache\\local-packages\\Python39\\site-packages\\quandl\\get.py:48\u001b[0m, in \u001b[0;36mget\u001b[1;34m(dataset, **kwargs)\u001b[0m\n\u001b[0;32m     46\u001b[0m     \u001b[39mif\u001b[39;00m dataset_args[\u001b[39m'\u001b[39m\u001b[39mcolumn_index\u001b[39m\u001b[39m'\u001b[39m] \u001b[39mis\u001b[39;00m \u001b[39mnot\u001b[39;00m \u001b[39mNone\u001b[39;00m:\n\u001b[0;32m     47\u001b[0m         kwargs\u001b[39m.\u001b[39mupdate({\u001b[39m'\u001b[39m\u001b[39mcolumn_index\u001b[39m\u001b[39m'\u001b[39m: dataset_args[\u001b[39m'\u001b[39m\u001b[39mcolumn_index\u001b[39m\u001b[39m'\u001b[39m]})\n\u001b[1;32m---> 48\u001b[0m     data \u001b[39m=\u001b[39m Dataset(dataset_args[\u001b[39m'\u001b[39;49m\u001b[39mcode\u001b[39;49m\u001b[39m'\u001b[39;49m])\u001b[39m.\u001b[39;49mdata(params\u001b[39m=\u001b[39;49mkwargs, handle_column_not_found\u001b[39m=\u001b[39;49m\u001b[39mTrue\u001b[39;49;00m)\n\u001b[0;32m     49\u001b[0m \u001b[39m# Array\u001b[39;00m\n\u001b[0;32m     50\u001b[0m \u001b[39melif\u001b[39;00m \u001b[39misinstance\u001b[39m(dataset, \u001b[39mlist\u001b[39m):\n",
      "File \u001b[1;32m~\\AppData\\Local\\Packages\\PythonSoftwareFoundation.Python.3.9_qbz5n2kfra8p0\\LocalCache\\local-packages\\Python39\\site-packages\\quandl\\model\\dataset.py:47\u001b[0m, in \u001b[0;36mDataset.data\u001b[1;34m(self, **options)\u001b[0m\n\u001b[0;32m     45\u001b[0m updated_options \u001b[39m=\u001b[39m Util\u001b[39m.\u001b[39mmerge_options(\u001b[39m'\u001b[39m\u001b[39mparams\u001b[39m\u001b[39m'\u001b[39m, params, \u001b[39m*\u001b[39m\u001b[39m*\u001b[39moptions)\n\u001b[0;32m     46\u001b[0m \u001b[39mtry\u001b[39;00m:\n\u001b[1;32m---> 47\u001b[0m     \u001b[39mreturn\u001b[39;00m Data\u001b[39m.\u001b[39mall(\u001b[39m*\u001b[39m\u001b[39m*\u001b[39mupdated_options)\n\u001b[0;32m     48\u001b[0m \u001b[39mexcept\u001b[39;00m NotFoundError:\n\u001b[0;32m     49\u001b[0m     \u001b[39mif\u001b[39;00m handle_not_found_error:\n",
      "File \u001b[1;32m~\\AppData\\Local\\Packages\\PythonSoftwareFoundation.Python.3.9_qbz5n2kfra8p0\\LocalCache\\local-packages\\Python39\\site-packages\\quandl\\operations\\list.py:15\u001b[0m, in \u001b[0;36mListOperation.all\u001b[1;34m(cls, **options)\u001b[0m\n\u001b[0;32m     13\u001b[0m     options[\u001b[39m'\u001b[39m\u001b[39mparams\u001b[39m\u001b[39m'\u001b[39m] \u001b[39m=\u001b[39m {}\n\u001b[0;32m     14\u001b[0m path \u001b[39m=\u001b[39m Util\u001b[39m.\u001b[39mconstructed_path(\u001b[39mcls\u001b[39m\u001b[39m.\u001b[39mlist_path(), options[\u001b[39m'\u001b[39m\u001b[39mparams\u001b[39m\u001b[39m'\u001b[39m])\n\u001b[1;32m---> 15\u001b[0m r \u001b[39m=\u001b[39m Connection\u001b[39m.\u001b[39mrequest(\u001b[39m'\u001b[39m\u001b[39mget\u001b[39m\u001b[39m'\u001b[39m, path, \u001b[39m*\u001b[39m\u001b[39m*\u001b[39moptions)\n\u001b[0;32m     16\u001b[0m response_data \u001b[39m=\u001b[39m r\u001b[39m.\u001b[39mjson()\n\u001b[0;32m     17\u001b[0m Util\u001b[39m.\u001b[39mconvert_to_dates(response_data)\n",
      "File \u001b[1;32m~\\AppData\\Local\\Packages\\PythonSoftwareFoundation.Python.3.9_qbz5n2kfra8p0\\LocalCache\\local-packages\\Python39\\site-packages\\quandl\\connection.py:38\u001b[0m, in \u001b[0;36mConnection.request\u001b[1;34m(cls, http_verb, url, **options)\u001b[0m\n\u001b[0;32m     34\u001b[0m options[\u001b[39m'\u001b[39m\u001b[39mheaders\u001b[39m\u001b[39m'\u001b[39m] \u001b[39m=\u001b[39m headers\n\u001b[0;32m     36\u001b[0m abs_url \u001b[39m=\u001b[39m \u001b[39m'\u001b[39m\u001b[39m%s\u001b[39;00m\u001b[39m/\u001b[39m\u001b[39m%s\u001b[39;00m\u001b[39m'\u001b[39m \u001b[39m%\u001b[39m (ApiConfig\u001b[39m.\u001b[39mapi_base, url)\n\u001b[1;32m---> 38\u001b[0m \u001b[39mreturn\u001b[39;00m \u001b[39mcls\u001b[39m\u001b[39m.\u001b[39mexecute_request(http_verb, abs_url, \u001b[39m*\u001b[39m\u001b[39m*\u001b[39moptions)\n",
      "File \u001b[1;32m~\\AppData\\Local\\Packages\\PythonSoftwareFoundation.Python.3.9_qbz5n2kfra8p0\\LocalCache\\local-packages\\Python39\\site-packages\\quandl\\connection.py:50\u001b[0m, in \u001b[0;36mConnection.execute_request\u001b[1;34m(cls, http_verb, url, **options)\u001b[0m\n\u001b[0;32m     45\u001b[0m response \u001b[39m=\u001b[39m session\u001b[39m.\u001b[39mrequest(method\u001b[39m=\u001b[39mhttp_verb,\n\u001b[0;32m     46\u001b[0m                            url\u001b[39m=\u001b[39murl,\n\u001b[0;32m     47\u001b[0m                            verify\u001b[39m=\u001b[39mApiConfig\u001b[39m.\u001b[39mverify_ssl,\n\u001b[0;32m     48\u001b[0m                            \u001b[39m*\u001b[39m\u001b[39m*\u001b[39moptions)\n\u001b[0;32m     49\u001b[0m \u001b[39mif\u001b[39;00m response\u001b[39m.\u001b[39mstatus_code \u001b[39m<\u001b[39m \u001b[39m200\u001b[39m \u001b[39mor\u001b[39;00m response\u001b[39m.\u001b[39mstatus_code \u001b[39m>\u001b[39m\u001b[39m=\u001b[39m \u001b[39m300\u001b[39m:\n\u001b[1;32m---> 50\u001b[0m     \u001b[39mcls\u001b[39;49m\u001b[39m.\u001b[39;49mhandle_api_error(response)\n\u001b[0;32m     51\u001b[0m \u001b[39melse\u001b[39;00m:\n\u001b[0;32m     52\u001b[0m     \u001b[39mreturn\u001b[39;00m response\n",
      "File \u001b[1;32m~\\AppData\\Local\\Packages\\PythonSoftwareFoundation.Python.3.9_qbz5n2kfra8p0\\LocalCache\\local-packages\\Python39\\site-packages\\quandl\\connection.py:114\u001b[0m, in \u001b[0;36mConnection.handle_api_error\u001b[1;34m(cls, resp)\u001b[0m\n\u001b[0;32m    103\u001b[0m d_klass \u001b[39m=\u001b[39m {\n\u001b[0;32m    104\u001b[0m     \u001b[39m'\u001b[39m\u001b[39mL\u001b[39m\u001b[39m'\u001b[39m: LimitExceededError,\n\u001b[0;32m    105\u001b[0m     \u001b[39m'\u001b[39m\u001b[39mM\u001b[39m\u001b[39m'\u001b[39m: InternalServerError,\n\u001b[1;32m   (...)\u001b[0m\n\u001b[0;32m    110\u001b[0m     \u001b[39m'\u001b[39m\u001b[39mX\u001b[39m\u001b[39m'\u001b[39m: ServiceUnavailableError\n\u001b[0;32m    111\u001b[0m }\n\u001b[0;32m    112\u001b[0m klass \u001b[39m=\u001b[39m d_klass\u001b[39m.\u001b[39mget(code_letter, QuandlError)\n\u001b[1;32m--> 114\u001b[0m \u001b[39mraise\u001b[39;00m klass(message, resp\u001b[39m.\u001b[39mstatus_code, resp\u001b[39m.\u001b[39mtext, resp\u001b[39m.\u001b[39mheaders, code)\n",
      "\u001b[1;31mLimitExceededError\u001b[0m: (Status 429) (Quandl Error QELx01) You have exceeded the anonymous user limit of 50 calls per day. To make more calls today, please register for a free Nasdaq Data Link account and then include your API key with your requests."
     ]
    }
   ],
   "source": [
    "df = quandl.get(\"WIKI/GOOGL\")\n",
    "df.head()"
   ]
  },
  {
   "cell_type": "code",
   "execution_count": null,
   "metadata": {},
   "outputs": [
    {
     "data": {
      "text/html": [
       "<div>\n",
       "<style scoped>\n",
       "    .dataframe tbody tr th:only-of-type {\n",
       "        vertical-align: middle;\n",
       "    }\n",
       "\n",
       "    .dataframe tbody tr th {\n",
       "        vertical-align: top;\n",
       "    }\n",
       "\n",
       "    .dataframe thead th {\n",
       "        text-align: right;\n",
       "    }\n",
       "</style>\n",
       "<table border=\"1\" class=\"dataframe\">\n",
       "  <thead>\n",
       "    <tr style=\"text-align: right;\">\n",
       "      <th></th>\n",
       "      <th>Adj. Close</th>\n",
       "      <th>HL_PCT</th>\n",
       "      <th>PCT_ch</th>\n",
       "      <th>Adj. Volume</th>\n",
       "    </tr>\n",
       "    <tr>\n",
       "      <th>Date</th>\n",
       "      <th></th>\n",
       "      <th></th>\n",
       "      <th></th>\n",
       "      <th></th>\n",
       "    </tr>\n",
       "  </thead>\n",
       "  <tbody>\n",
       "    <tr>\n",
       "      <th>2004-08-19</th>\n",
       "      <td>50.322842</td>\n",
       "      <td>3.712563</td>\n",
       "      <td>0.324968</td>\n",
       "      <td>44659000.0</td>\n",
       "    </tr>\n",
       "    <tr>\n",
       "      <th>2004-08-20</th>\n",
       "      <td>54.322689</td>\n",
       "      <td>0.710922</td>\n",
       "      <td>7.227007</td>\n",
       "      <td>22834300.0</td>\n",
       "    </tr>\n",
       "    <tr>\n",
       "      <th>2004-08-23</th>\n",
       "      <td>54.869377</td>\n",
       "      <td>3.729433</td>\n",
       "      <td>-1.227880</td>\n",
       "      <td>18256100.0</td>\n",
       "    </tr>\n",
       "    <tr>\n",
       "      <th>2004-08-24</th>\n",
       "      <td>52.597363</td>\n",
       "      <td>6.417469</td>\n",
       "      <td>-5.726357</td>\n",
       "      <td>15247300.0</td>\n",
       "    </tr>\n",
       "    <tr>\n",
       "      <th>2004-08-25</th>\n",
       "      <td>53.164113</td>\n",
       "      <td>1.886792</td>\n",
       "      <td>1.183658</td>\n",
       "      <td>9188600.0</td>\n",
       "    </tr>\n",
       "  </tbody>\n",
       "</table>\n",
       "</div>"
      ],
      "text/plain": [
       "            Adj. Close    HL_PCT    PCT_ch  Adj. Volume\n",
       "Date                                                   \n",
       "2004-08-19   50.322842  3.712563  0.324968   44659000.0\n",
       "2004-08-20   54.322689  0.710922  7.227007   22834300.0\n",
       "2004-08-23   54.869377  3.729433 -1.227880   18256100.0\n",
       "2004-08-24   52.597363  6.417469 -5.726357   15247300.0\n",
       "2004-08-25   53.164113  1.886792  1.183658    9188600.0"
      ]
     },
     "execution_count": 14,
     "metadata": {},
     "output_type": "execute_result"
    }
   ],
   "source": [
    "df = df[[\"Adj. Open\",\"Adj. High\",\"Adj. Low\",\"Adj. Close\",\"Adj. Volume\"]]\n",
    "df[\"HL_PCT\"] = (df[\"Adj. High\"] - df[\"Adj. Close\"])/df[\"Adj. Close\"]    * 100.0\n",
    "df[\"PCT_ch\"] = (df[\"Adj. Close\"] - df[\"Adj. Open\"])/df[\"Adj. Open\"] * 100.0\n",
    "\n",
    "df=df[[\"Adj. Close\", \"HL_PCT\",\"PCT_ch\",\"Adj. Volume\"]]\n",
    "df.head()"
   ]
  },
  {
   "cell_type": "code",
   "execution_count": null,
   "metadata": {},
   "outputs": [
    {
     "ename": "NameError",
     "evalue": "name 'df' is not defined",
     "output_type": "error",
     "traceback": [
      "\u001b[1;31m---------------------------------------------------------------------------\u001b[0m",
      "\u001b[1;31mNameError\u001b[0m                                 Traceback (most recent call last)",
      "\u001b[1;32mc:\\Users\\mpilo\\OneDrive\\Documents\\GitHub\\Playground\\Machine_Learning\\ml.ipynb Cell 4\u001b[0m line \u001b[0;36m2\n\u001b[0;32m      <a href='vscode-notebook-cell:/c%3A/Users/mpilo/OneDrive/Documents/GitHub/Playground/Machine_Learning/ml.ipynb#W3sZmlsZQ%3D%3D?line=0'>1</a>\u001b[0m forecast_col \u001b[39m=\u001b[39m \u001b[39m\"\u001b[39m\u001b[39mAdj. Close\u001b[39m\u001b[39m\"\u001b[39m\n\u001b[1;32m----> <a href='vscode-notebook-cell:/c%3A/Users/mpilo/OneDrive/Documents/GitHub/Playground/Machine_Learning/ml.ipynb#W3sZmlsZQ%3D%3D?line=1'>2</a>\u001b[0m df\u001b[39m.\u001b[39mfillna(\u001b[39m-\u001b[39m\u001b[39m99999\u001b[39m, inplace\u001b[39m=\u001b[39m\u001b[39mTrue\u001b[39;00m) \u001b[39m#cahnge missing data to outliers\u001b[39;00m\n\u001b[0;32m      <a href='vscode-notebook-cell:/c%3A/Users/mpilo/OneDrive/Documents/GitHub/Playground/Machine_Learning/ml.ipynb#W3sZmlsZQ%3D%3D?line=2'>3</a>\u001b[0m forecast_out \u001b[39m=\u001b[39m \u001b[39mint\u001b[39m(math\u001b[39m.\u001b[39mceil(\u001b[39m0.1\u001b[39m\u001b[39m*\u001b[39m\u001b[39mlen\u001b[39m(df)))\n\u001b[0;32m      <a href='vscode-notebook-cell:/c%3A/Users/mpilo/OneDrive/Documents/GitHub/Playground/Machine_Learning/ml.ipynb#W3sZmlsZQ%3D%3D?line=3'>4</a>\u001b[0m df[\u001b[39m\"\u001b[39m\u001b[39mlabel\u001b[39m\u001b[39m\"\u001b[39m] \u001b[39m=\u001b[39m df[forecast_col]\u001b[39m.\u001b[39mshift(\u001b[39m-\u001b[39mforecast_out)\n",
      "\u001b[1;31mNameError\u001b[0m: name 'df' is not defined"
     ]
    }
   ],
   "source": [
    "forecast_col = \"Adj. Close\"\n",
    "df.fillna(-99999, inplace=True) #cahnge missing data to outliers\n",
    "forecast_out = int(math.ceil(0.1*len(df)))\n",
    "df[\"label\"] = df[forecast_col].shift(-forecast_out)\n",
    "df.head()"
   ]
  }
 ],
 "metadata": {
  "kernelspec": {
   "display_name": "Python 3",
   "language": "python",
   "name": "python3"
  },
  "language_info": {
   "codemirror_mode": {
    "name": "ipython",
    "version": 3
   },
   "file_extension": ".py",
   "mimetype": "text/x-python",
   "name": "python",
   "nbconvert_exporter": "python",
   "pygments_lexer": "ipython3",
   "version": "3.9.13"
  }
 },
 "nbformat": 4,
 "nbformat_minor": 2
}
